{
 "cells": [
  {
   "cell_type": "markdown",
   "id": "819ac778-8ab4-4df3-9cf3-048ee63ede42",
   "metadata": {},
   "source": [
    "# Python Datatypes"
   ]
  },
  {
   "cell_type": "raw",
   "id": "0fc86786-b5f0-42fa-aaa1-75b6d4ef8088",
   "metadata": {},
   "source": [
    "a = 5\n",
    "a --> a is Identifier name\n",
    "5 --> 5 is value\n",
    "values == data types \n",
    "integer value or int datatypes\n",
    "float value or float datatype\n",
    "string value or string datatype\n",
    "bool value or bool datatype\n",
    "complex value or complex datatype"
   ]
  },
  {
   "cell_type": "code",
   "execution_count": 8,
   "id": "5cd473d3-5c41-40d3-83e6-0c4f5dcfe845",
   "metadata": {},
   "outputs": [
    {
     "name": "stdout",
     "output_type": "stream",
     "text": [
      "a =  5 ,  a is <class 'int'>\n",
      "b =  6 ,  b is <class 'int'>\n",
      "c =  -10 ,  c is <class 'int'>\n"
     ]
    }
   ],
   "source": [
    "# int is a number with out decimal value\n",
    "a, b, c = 5, 6, -10\n",
    "print('a = ', a,',  a is', type(a))\n",
    "print('b = ', b,',  b is', type(b))\n",
    "print('c = ', c,',  c is', type(c))"
   ]
  },
  {
   "cell_type": "code",
   "execution_count": 10,
   "id": "a59fee17-b675-4a2f-b3c5-1d3413113a2a",
   "metadata": {},
   "outputs": [
    {
     "name": "stdout",
     "output_type": "stream",
     "text": [
      "f1 =  1.55 ,  f1 is <class 'float'>\n",
      "f2 =  2.66 ,  f2 is <class 'float'>\n",
      "f3 =  -7.9909 ,  f3 is <class 'float'>\n"
     ]
    }
   ],
   "source": [
    "# float is a number with decimal value\n",
    "f1, f2, f3 = 1.55, 2.66, -7.9909\n",
    "print('f1 = ', f1,',  f1 is', type(f1))\n",
    "print('f2 = ', f2,',  f2 is', type(f2))\n",
    "print('f3 = ', f3,',  f3 is', type(f3))"
   ]
  },
  {
   "cell_type": "code",
   "execution_count": 14,
   "id": "bc0d3a6b-527f-4d1a-a206-8242c9e75415",
   "metadata": {},
   "outputs": [
    {
     "name": "stdout",
     "output_type": "stream",
     "text": [
      "name :  Ram\n",
      "standard :  8th\n",
      "sec :  A\n",
      "Address :   1st line, hyd, TS \n",
      "height :  4.5 ft\n"
     ]
    }
   ],
   "source": [
    "# string is text data (lettes, words, sentencs, numeric, alphanumeric), it defines in '' || \" \" || ''' '''\n",
    "name = \"Ram\"\n",
    "standard = '8th'\n",
    "sec = 'A'\n",
    "height = ('4.5 ft')\n",
    "Address = \" 1st line, hyd, TS \"\n",
    "print(\"name : \",name)\n",
    "print(\"standard : \",standard)\n",
    "print(\"sec : \",sec)\n",
    "print(\"Address : \",Address)\n",
    "print(\"height : \",height)"
   ]
  },
  {
   "cell_type": "code",
   "execution_count": 20,
   "id": "a9d06bf9-4765-4322-967a-809df856d432",
   "metadata": {},
   "outputs": [
    {
     "name": "stdout",
     "output_type": "stream",
     "text": [
      "tr =  True , tr is a  <class 'bool'>\n",
      "fa =  False , fa is a  <class 'bool'>\n"
     ]
    }
   ],
   "source": [
    "# Bool (True || False)\n",
    "tr = True\n",
    "fa = False\n",
    "print('tr = ', tr,', tr is a ', type(tr))\n",
    "print('fa = ', fa,', fa is a ', type(fa))"
   ]
  },
  {
   "cell_type": "code",
   "execution_count": 22,
   "id": "8a98e7be-36f3-4fe5-a7e0-f64447ee0517",
   "metadata": {},
   "outputs": [
    {
     "name": "stdout",
     "output_type": "stream",
     "text": [
      "comp1 =  (2+3j)  comp1 is a  <class 'complex'>\n",
      "comp2 =  (1+1j)  comp2 is a  <class 'complex'>\n",
      "comp3 =  (3+0j)  comp3 is a  <class 'complex'>\n"
     ]
    }
   ],
   "source": [
    "# complex --> it containns two parts, Real value and Imagenery value. ex 1+2j, 5+3j\n",
    "comp1, comp2, comp3 = 2+3j, 1+1j, 3+0j\n",
    "print('comp1 = ', comp1, ' comp1 is a ', type(comp1))\n",
    "print('comp2 = ', comp2, ' comp2 is a ', type(comp2))\n",
    "print('comp3 = ', comp3, ' comp3 is a ', type(comp3))"
   ]
  },
  {
   "cell_type": "code",
   "execution_count": null,
   "id": "df45bb83-419b-4fd7-986b-8e68778db5b5",
   "metadata": {},
   "outputs": [],
   "source": []
  }
 ],
 "metadata": {
  "kernelspec": {
   "display_name": "Python 3 (ipykernel)",
   "language": "python",
   "name": "python3"
  },
  "language_info": {
   "codemirror_mode": {
    "name": "ipython",
    "version": 3
   },
   "file_extension": ".py",
   "mimetype": "text/x-python",
   "name": "python",
   "nbconvert_exporter": "python",
   "pygments_lexer": "ipython3",
   "version": "3.12.7"
  }
 },
 "nbformat": 4,
 "nbformat_minor": 5
}
