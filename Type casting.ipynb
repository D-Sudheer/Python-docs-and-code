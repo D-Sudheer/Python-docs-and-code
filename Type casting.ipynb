{
 "cells": [
  {
   "cell_type": "markdown",
   "id": "3d0a10fd-1701-4527-8a7e-54873a3b264c",
   "metadata": {},
   "source": [
    "# Type casting"
   ]
  },
  {
   "cell_type": "raw",
   "id": "566e9cf8-4896-47d4-ae27-1a3b63d0a4c1",
   "metadata": {},
   "source": [
    "1- Other data type to int  ---> \n",
    "\t\tstring with text & complex cannot casting to int \n",
    "\t\tbut rest of the data type we can able cast to int\n",
    "2- Other data type to float -->\n",
    "\tstring with text & complex cannot casting to float \n",
    "\tbut rest of the data type we can able cast to float\n",
    "3- Other data type to complex --->\n",
    "\t string only numbers allowe also only 1 string is acceptable\n",
    "\t other datatype to complex \n",
    "4- other data type to bool --->\n",
    "\twe can casting from other data type to bool\n",
    "\tnon zero argument -- always give you true\n",
    "\tzero arugment -- alwasy give you false\n",
    "5- other data type to string  --->\n",
    "\twe can casting from other data type to string\n"
   ]
  },
  {
   "cell_type": "raw",
   "id": "c129ef0d-d2a3-4cb2-880a-01105bff5f96",
   "metadata": {},
   "source": [
    "Other data type to int --->"
   ]
  },
  {
   "cell_type": "code",
   "execution_count": 5,
   "id": "6b4798b9-77df-4044-ae65-97d5e127f7a8",
   "metadata": {},
   "outputs": [
    {
     "data": {
      "text/plain": [
       "10"
      ]
     },
     "execution_count": 5,
     "metadata": {},
     "output_type": "execute_result"
    }
   ],
   "source": [
    "int(10.22)"
   ]
  },
  {
   "cell_type": "code",
   "execution_count": 7,
   "id": "534862e0-a1ce-41f0-bb6c-f536ac9cd605",
   "metadata": {},
   "outputs": [
    {
     "data": {
      "text/plain": [
       "1"
      ]
     },
     "execution_count": 7,
     "metadata": {},
     "output_type": "execute_result"
    }
   ],
   "source": [
    "int(True)"
   ]
  },
  {
   "cell_type": "code",
   "execution_count": 9,
   "id": "c7f18b82-bfc3-4522-8f8b-69e0bbc9c8df",
   "metadata": {},
   "outputs": [
    {
     "data": {
      "text/plain": [
       "0"
      ]
     },
     "execution_count": 9,
     "metadata": {},
     "output_type": "execute_result"
    }
   ],
   "source": [
    "int(False)"
   ]
  },
  {
   "cell_type": "code",
   "execution_count": 11,
   "id": "6273908d-f1b6-49ea-88af-6f94c1d42658",
   "metadata": {},
   "outputs": [
    {
     "data": {
      "text/plain": [
       "15"
      ]
     },
     "execution_count": 11,
     "metadata": {},
     "output_type": "execute_result"
    }
   ],
   "source": [
    "int('15')"
   ]
  },
  {
   "cell_type": "code",
   "execution_count": 45,
   "id": "807ea6d0-04ea-4229-8d4d-2c6a300a9301",
   "metadata": {},
   "outputs": [
    {
     "ename": "ValueError",
     "evalue": "invalid literal for int() with base 10: 'Ten'",
     "output_type": "error",
     "traceback": [
      "\u001b[1;31m---------------------------------------------------------------------------\u001b[0m",
      "\u001b[1;31mValueError\u001b[0m                                Traceback (most recent call last)",
      "Cell \u001b[1;32mIn[45], line 1\u001b[0m\n\u001b[1;32m----> 1\u001b[0m \u001b[38;5;28mint\u001b[39m(\u001b[38;5;124m'\u001b[39m\u001b[38;5;124mTen\u001b[39m\u001b[38;5;124m'\u001b[39m)\n",
      "\u001b[1;31mValueError\u001b[0m: invalid literal for int() with base 10: 'Ten'"
     ]
    }
   ],
   "source": [
    "int('Ten')"
   ]
  },
  {
   "cell_type": "code",
   "execution_count": 15,
   "id": "684f06c3-89a1-4bbb-9743-382106cc6df3",
   "metadata": {},
   "outputs": [
    {
     "ename": "TypeError",
     "evalue": "int() argument must be a string, a bytes-like object or a real number, not 'complex'",
     "output_type": "error",
     "traceback": [
      "\u001b[1;31m---------------------------------------------------------------------------\u001b[0m",
      "\u001b[1;31mTypeError\u001b[0m                                 Traceback (most recent call last)",
      "Cell \u001b[1;32mIn[15], line 1\u001b[0m\n\u001b[1;32m----> 1\u001b[0m \u001b[38;5;28mint\u001b[39m(\u001b[38;5;241m3\u001b[39m\u001b[38;5;241m+\u001b[39m\u001b[38;5;241m5\u001b[39mj)\n",
      "\u001b[1;31mTypeError\u001b[0m: int() argument must be a string, a bytes-like object or a real number, not 'complex'"
     ]
    }
   ],
   "source": [
    "int(3+5j)"
   ]
  },
  {
   "cell_type": "raw",
   "id": "32a095a5-fa9c-4b7d-88d3-3ae6e780c9bb",
   "metadata": {},
   "source": [
    "Other data type to float ---->"
   ]
  },
  {
   "cell_type": "code",
   "execution_count": 19,
   "id": "8f95bcc2-c754-446c-9d4e-7c901adeea5e",
   "metadata": {},
   "outputs": [
    {
     "data": {
      "text/plain": [
       "12.0"
      ]
     },
     "execution_count": 19,
     "metadata": {},
     "output_type": "execute_result"
    }
   ],
   "source": [
    "float(12)"
   ]
  },
  {
   "cell_type": "code",
   "execution_count": 21,
   "id": "da13d7e9-2218-4241-a99f-a4aaf180243d",
   "metadata": {},
   "outputs": [
    {
     "data": {
      "text/plain": [
       "1.0"
      ]
     },
     "execution_count": 21,
     "metadata": {},
     "output_type": "execute_result"
    }
   ],
   "source": [
    "float(True)"
   ]
  },
  {
   "cell_type": "code",
   "execution_count": 25,
   "id": "bbb0a6cc-4b8e-4851-9500-6ab5c351f3b0",
   "metadata": {},
   "outputs": [
    {
     "data": {
      "text/plain": [
       "0.0"
      ]
     },
     "execution_count": 25,
     "metadata": {},
     "output_type": "execute_result"
    }
   ],
   "source": [
    "float(False)"
   ]
  },
  {
   "cell_type": "code",
   "execution_count": 27,
   "id": "68b83a0e-7519-4b34-9bc2-c3119fe17528",
   "metadata": {},
   "outputs": [
    {
     "data": {
      "text/plain": [
       "1122.0"
      ]
     },
     "execution_count": 27,
     "metadata": {},
     "output_type": "execute_result"
    }
   ],
   "source": [
    "float('1122')"
   ]
  },
  {
   "cell_type": "code",
   "execution_count": 47,
   "id": "0ca8279a-6234-436e-85ee-595e0685ee7a",
   "metadata": {},
   "outputs": [
    {
     "ename": "ValueError",
     "evalue": "could not convert string to float: 'Ten'",
     "output_type": "error",
     "traceback": [
      "\u001b[1;31m---------------------------------------------------------------------------\u001b[0m",
      "\u001b[1;31mValueError\u001b[0m                                Traceback (most recent call last)",
      "Cell \u001b[1;32mIn[47], line 1\u001b[0m\n\u001b[1;32m----> 1\u001b[0m \u001b[38;5;28mfloat\u001b[39m(\u001b[38;5;124m'\u001b[39m\u001b[38;5;124mTen\u001b[39m\u001b[38;5;124m'\u001b[39m)\n",
      "\u001b[1;31mValueError\u001b[0m: could not convert string to float: 'Ten'"
     ]
    }
   ],
   "source": [
    "float('Ten')"
   ]
  },
  {
   "cell_type": "code",
   "execution_count": 31,
   "id": "f98ce9cc-010a-46f6-90e8-690785bd5cb8",
   "metadata": {},
   "outputs": [
    {
     "ename": "TypeError",
     "evalue": "float() argument must be a string or a real number, not 'complex'",
     "output_type": "error",
     "traceback": [
      "\u001b[1;31m---------------------------------------------------------------------------\u001b[0m",
      "\u001b[1;31mTypeError\u001b[0m                                 Traceback (most recent call last)",
      "Cell \u001b[1;32mIn[31], line 1\u001b[0m\n\u001b[1;32m----> 1\u001b[0m \u001b[38;5;28mfloat\u001b[39m(\u001b[38;5;241m2\u001b[39m\u001b[38;5;241m+\u001b[39m\u001b[38;5;241m3\u001b[39mj)\n",
      "\u001b[1;31mTypeError\u001b[0m: float() argument must be a string or a real number, not 'complex'"
     ]
    }
   ],
   "source": [
    "float(2+3j)"
   ]
  },
  {
   "cell_type": "raw",
   "id": "2bec701c-e68d-49c1-8178-2a3890a0038c",
   "metadata": {},
   "source": [
    "Other data type to complex --->"
   ]
  },
  {
   "cell_type": "code",
   "execution_count": 33,
   "id": "11782e1e-cb0c-408a-b23d-5a1da7791c08",
   "metadata": {},
   "outputs": [
    {
     "data": {
      "text/plain": [
       "(5+0j)"
      ]
     },
     "execution_count": 33,
     "metadata": {},
     "output_type": "execute_result"
    }
   ],
   "source": [
    "complex(5)"
   ]
  },
  {
   "cell_type": "code",
   "execution_count": 35,
   "id": "7953904c-e327-4e8e-8075-dcae25f6b83d",
   "metadata": {},
   "outputs": [
    {
     "data": {
      "text/plain": [
       "(11.5+0j)"
      ]
     },
     "execution_count": 35,
     "metadata": {},
     "output_type": "execute_result"
    }
   ],
   "source": [
    "complex(11.5)"
   ]
  },
  {
   "cell_type": "code",
   "execution_count": 37,
   "id": "04719fe9-2352-4c37-84fb-5b98205ce4d2",
   "metadata": {},
   "outputs": [
    {
     "data": {
      "text/plain": [
       "(1+0j)"
      ]
     },
     "execution_count": 37,
     "metadata": {},
     "output_type": "execute_result"
    }
   ],
   "source": [
    "complex(True)"
   ]
  },
  {
   "cell_type": "code",
   "execution_count": 39,
   "id": "a688b8be-c041-4fc9-b0a5-b70c2d13a507",
   "metadata": {},
   "outputs": [
    {
     "data": {
      "text/plain": [
       "0j"
      ]
     },
     "execution_count": 39,
     "metadata": {},
     "output_type": "execute_result"
    }
   ],
   "source": [
    "complex(False)"
   ]
  },
  {
   "cell_type": "code",
   "execution_count": 41,
   "id": "4717732e-3d6f-4f69-8389-34c0740daca7",
   "metadata": {},
   "outputs": [
    {
     "data": {
      "text/plain": [
       "(20+0j)"
      ]
     },
     "execution_count": 41,
     "metadata": {},
     "output_type": "execute_result"
    }
   ],
   "source": [
    "complex('20')"
   ]
  },
  {
   "cell_type": "code",
   "execution_count": 49,
   "id": "bea58913-c709-4ca3-9292-037bf9ad382e",
   "metadata": {},
   "outputs": [
    {
     "ename": "ValueError",
     "evalue": "complex() arg is a malformed string",
     "output_type": "error",
     "traceback": [
      "\u001b[1;31m---------------------------------------------------------------------------\u001b[0m",
      "\u001b[1;31mValueError\u001b[0m                                Traceback (most recent call last)",
      "Cell \u001b[1;32mIn[49], line 1\u001b[0m\n\u001b[1;32m----> 1\u001b[0m \u001b[38;5;28mcomplex\u001b[39m(\u001b[38;5;124m'\u001b[39m\u001b[38;5;124mTen\u001b[39m\u001b[38;5;124m'\u001b[39m)\n",
      "\u001b[1;31mValueError\u001b[0m: complex() arg is a malformed string"
     ]
    }
   ],
   "source": [
    "complex('Ten')"
   ]
  },
  {
   "cell_type": "code",
   "execution_count": 51,
   "id": "8faa3b97-c552-4f75-a197-1149ce283b9d",
   "metadata": {},
   "outputs": [
    {
     "ename": "TypeError",
     "evalue": "complex() can't take second arg if first is a string",
     "output_type": "error",
     "traceback": [
      "\u001b[1;31m---------------------------------------------------------------------------\u001b[0m",
      "\u001b[1;31mTypeError\u001b[0m                                 Traceback (most recent call last)",
      "Cell \u001b[1;32mIn[51], line 1\u001b[0m\n\u001b[1;32m----> 1\u001b[0m \u001b[38;5;28mcomplex\u001b[39m(\u001b[38;5;124m'\u001b[39m\u001b[38;5;124m10\u001b[39m\u001b[38;5;124m'\u001b[39m, \u001b[38;5;124m'\u001b[39m\u001b[38;5;124m20\u001b[39m\u001b[38;5;124m'\u001b[39m)\n",
      "\u001b[1;31mTypeError\u001b[0m: complex() can't take second arg if first is a string"
     ]
    }
   ],
   "source": [
    "complex('10', '20')"
   ]
  },
  {
   "cell_type": "code",
   "execution_count": 53,
   "id": "75a5ba94-6566-4f57-b419-c09b7a034a86",
   "metadata": {},
   "outputs": [
    {
     "data": {
      "text/plain": [
       "(10+0j)"
      ]
     },
     "execution_count": 53,
     "metadata": {},
     "output_type": "execute_result"
    }
   ],
   "source": [
    "complex('10')"
   ]
  },
  {
   "cell_type": "code",
   "execution_count": 55,
   "id": "8581b279-e3bc-46a3-b85d-b5a595be8357",
   "metadata": {},
   "outputs": [
    {
     "data": {
      "text/plain": [
       "(10+20j)"
      ]
     },
     "execution_count": 55,
     "metadata": {},
     "output_type": "execute_result"
    }
   ],
   "source": [
    "complex(10, 20)"
   ]
  },
  {
   "cell_type": "code",
   "execution_count": 57,
   "id": "6c054c26-3d68-4770-817f-7f55a8987cfd",
   "metadata": {},
   "outputs": [
    {
     "data": {
      "text/plain": [
       "(1+1j)"
      ]
     },
     "execution_count": 57,
     "metadata": {},
     "output_type": "execute_result"
    }
   ],
   "source": [
    "complex(True, True)"
   ]
  },
  {
   "cell_type": "code",
   "execution_count": 59,
   "id": "3183cd0b-8e30-42e8-87b7-2499713557c9",
   "metadata": {},
   "outputs": [
    {
     "data": {
      "text/plain": [
       "1j"
      ]
     },
     "execution_count": 59,
     "metadata": {},
     "output_type": "execute_result"
    }
   ],
   "source": [
    "complex(False, True)"
   ]
  },
  {
   "cell_type": "code",
   "execution_count": 61,
   "id": "ba16d11e-99e7-477d-bb89-842b0037452f",
   "metadata": {},
   "outputs": [
    {
     "data": {
      "text/plain": [
       "(1+0j)"
      ]
     },
     "execution_count": 61,
     "metadata": {},
     "output_type": "execute_result"
    }
   ],
   "source": [
    "complex(True, False)"
   ]
  },
  {
   "cell_type": "code",
   "execution_count": 63,
   "id": "f46c54e3-3a17-400d-8d6a-83505acdb08c",
   "metadata": {},
   "outputs": [
    {
     "ename": "TypeError",
     "evalue": "complex() takes at most 2 arguments (3 given)",
     "output_type": "error",
     "traceback": [
      "\u001b[1;31m---------------------------------------------------------------------------\u001b[0m",
      "\u001b[1;31mTypeError\u001b[0m                                 Traceback (most recent call last)",
      "Cell \u001b[1;32mIn[63], line 1\u001b[0m\n\u001b[1;32m----> 1\u001b[0m \u001b[38;5;28mcomplex\u001b[39m(\u001b[38;5;241m12\u001b[39m,\u001b[38;5;241m15\u001b[39m,\u001b[38;5;241m13\u001b[39m)\n",
      "\u001b[1;31mTypeError\u001b[0m: complex() takes at most 2 arguments (3 given)"
     ]
    }
   ],
   "source": [
    "complex(12,15,13)"
   ]
  },
  {
   "cell_type": "raw",
   "id": "cdb1614e-c81d-40da-9f88-8b14376ae13c",
   "metadata": {},
   "source": [
    "other data type to bool --->"
   ]
  },
  {
   "cell_type": "code",
   "execution_count": 65,
   "id": "ff2c8c81-72c3-416d-9596-aebb769edd44",
   "metadata": {},
   "outputs": [
    {
     "data": {
      "text/plain": [
       "True"
      ]
     },
     "execution_count": 65,
     "metadata": {},
     "output_type": "execute_result"
    }
   ],
   "source": [
    "bool(10)"
   ]
  },
  {
   "cell_type": "code",
   "execution_count": 67,
   "id": "d243a6c9-4b18-48c5-9551-6f4f115bb565",
   "metadata": {},
   "outputs": [
    {
     "data": {
      "text/plain": [
       "True"
      ]
     },
     "execution_count": 67,
     "metadata": {},
     "output_type": "execute_result"
    }
   ],
   "source": [
    "bool(11.5)"
   ]
  },
  {
   "cell_type": "code",
   "execution_count": 69,
   "id": "187479b8-13d4-4655-9aae-c221402c744b",
   "metadata": {},
   "outputs": [
    {
     "data": {
      "text/plain": [
       "True"
      ]
     },
     "execution_count": 69,
     "metadata": {},
     "output_type": "execute_result"
    }
   ],
   "source": [
    "bool('Ram')"
   ]
  },
  {
   "cell_type": "code",
   "execution_count": 71,
   "id": "aea05334-20a4-4424-a580-1d54d4b7455c",
   "metadata": {},
   "outputs": [
    {
     "data": {
      "text/plain": [
       "False"
      ]
     },
     "execution_count": 71,
     "metadata": {},
     "output_type": "execute_result"
    }
   ],
   "source": [
    "bool(0)"
   ]
  },
  {
   "cell_type": "code",
   "execution_count": 73,
   "id": "fbad0c80-f142-493d-9550-8888a773d6ba",
   "metadata": {},
   "outputs": [
    {
     "data": {
      "text/plain": [
       "True"
      ]
     },
     "execution_count": 73,
     "metadata": {},
     "output_type": "execute_result"
    }
   ],
   "source": [
    "bool(2+3j)"
   ]
  },
  {
   "cell_type": "code",
   "execution_count": 77,
   "id": "20d70886-ff05-4a40-9eef-0997322a8e8e",
   "metadata": {},
   "outputs": [
    {
     "data": {
      "text/plain": [
       "True"
      ]
     },
     "execution_count": 77,
     "metadata": {},
     "output_type": "execute_result"
    }
   ],
   "source": [
    "bool('12')"
   ]
  },
  {
   "cell_type": "raw",
   "id": "ae0f27b2-365c-45ea-9a64-a8f3c0060def",
   "metadata": {},
   "source": [
    "other data type to string  --->"
   ]
  },
  {
   "cell_type": "code",
   "execution_count": 81,
   "id": "fe5b3f3b-3339-4ee1-87d8-ea5bdf2bf50d",
   "metadata": {},
   "outputs": [
    {
     "data": {
      "text/plain": [
       "'10'"
      ]
     },
     "execution_count": 81,
     "metadata": {},
     "output_type": "execute_result"
    }
   ],
   "source": [
    "str(10)"
   ]
  },
  {
   "cell_type": "code",
   "execution_count": 83,
   "id": "0187c69c-d88d-434e-981c-f9c6f06178db",
   "metadata": {},
   "outputs": [
    {
     "data": {
      "text/plain": [
       "'11.558'"
      ]
     },
     "execution_count": 83,
     "metadata": {},
     "output_type": "execute_result"
    }
   ],
   "source": [
    "str(11.5580)"
   ]
  },
  {
   "cell_type": "code",
   "execution_count": 85,
   "id": "edf0333a-3653-420b-a39b-3b2b8d43ff58",
   "metadata": {},
   "outputs": [
    {
     "data": {
      "text/plain": [
       "'(5+3j)'"
      ]
     },
     "execution_count": 85,
     "metadata": {},
     "output_type": "execute_result"
    }
   ],
   "source": [
    "str(5+3j)"
   ]
  },
  {
   "cell_type": "code",
   "execution_count": 87,
   "id": "a06c8cba-0a04-4658-a08a-af33a1f46c29",
   "metadata": {},
   "outputs": [
    {
     "data": {
      "text/plain": [
       "'True'"
      ]
     },
     "execution_count": 87,
     "metadata": {},
     "output_type": "execute_result"
    }
   ],
   "source": [
    "str(True)"
   ]
  },
  {
   "cell_type": "code",
   "execution_count": 93,
   "id": "ec9bdfa4-1d9e-4462-8ef5-710cca33a4a5",
   "metadata": {},
   "outputs": [
    {
     "data": {
      "text/plain": [
       "'False'"
      ]
     },
     "execution_count": 93,
     "metadata": {},
     "output_type": "execute_result"
    }
   ],
   "source": [
    "str(False)"
   ]
  },
  {
   "cell_type": "code",
   "execution_count": null,
   "id": "0218012a-babc-4da1-acef-c9c38d49b2ff",
   "metadata": {},
   "outputs": [],
   "source": []
  }
 ],
 "metadata": {
  "kernelspec": {
   "display_name": "Python 3 (ipykernel)",
   "language": "python",
   "name": "python3"
  },
  "language_info": {
   "codemirror_mode": {
    "name": "ipython",
    "version": 3
   },
   "file_extension": ".py",
   "mimetype": "text/x-python",
   "name": "python",
   "nbconvert_exporter": "python",
   "pygments_lexer": "ipython3",
   "version": "3.12.7"
  }
 },
 "nbformat": 4,
 "nbformat_minor": 5
}
