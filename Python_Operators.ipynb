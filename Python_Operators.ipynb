{
 "cells": [
  {
   "cell_type": "markdown",
   "id": "1d434f5d-c01d-47e1-8d62-dbf1c9a747df",
   "metadata": {},
   "source": [
    "# Python Operators"
   ]
  },
  {
   "cell_type": "raw",
   "id": "192e7f53-b021-4313-8404-354b947b5d4a",
   "metadata": {},
   "source": [
    "ARITHMETIC OPERATOR (+, -, *, /, //,  %, ** )\n",
    "ASSIGNMENT OPERATOR (=, +=, -=, *=, /=, //=)\n",
    "RELATIONAL OPERATOR (> < >= <= == != )\n",
    "LOGICAL OPERATOR  ( and, or, not )\n",
    "UNARY OPERATOR  -\n"
   ]
  },
  {
   "cell_type": "code",
   "execution_count": 4,
   "id": "4c6c27e7-fd9d-461b-91ff-e4863e0754d7",
   "metadata": {},
   "outputs": [
    {
     "name": "stdout",
     "output_type": "stream",
     "text": [
      "a =  2  b=  5  a + b =  7\n",
      "a =  2  b=  5  a - b =  -3\n",
      "a =  2  b=  5  a * b =  10\n",
      "a =  2  b=  5  a / b =  0.4\n",
      "a =  2  b=  5  a // b =  0\n",
      "a =  2  b=  5  a % b =  2\n",
      "a =  2  b=  5  a ** b =  32\n"
     ]
    }
   ],
   "source": [
    "a = 2\n",
    "b = 5\n",
    "print('a = ',a,' b= ',b, ' a + b = ', a+b)\n",
    "print('a = ',a,' b= ',b, ' a - b = ', a-b)\n",
    "print('a = ',a,' b= ',b, ' a * b = ', a*b)\n",
    "print('a = ',a,' b= ',b, ' a / b = ', a/b)\n",
    "print('a = ',a,' b= ',b, ' a // b = ', a//b)\n",
    "print('a = ',a,' b= ',b, ' a % b = ', a%b)\n",
    "print('a = ',a,' b= ',b, ' a ** b = ', a**b)"
   ]
  },
  {
   "cell_type": "code",
   "execution_count": 42,
   "id": "f9d7dc73-b86d-4db2-a9b2-f009eafb1344",
   "metadata": {},
   "outputs": [
    {
     "name": "stdout",
     "output_type": "stream",
     "text": [
      "6\n",
      "8\n"
     ]
    }
   ],
   "source": [
    "c = 6\n",
    "print(c)\n",
    "c = 8\n",
    "print(c)"
   ]
  },
  {
   "cell_type": "code",
   "execution_count": 44,
   "id": "3a77eeb7-8777-4586-a854-c709314e2ed5",
   "metadata": {},
   "outputs": [
    {
     "data": {
      "text/plain": [
       "10"
      ]
     },
     "execution_count": 44,
     "metadata": {},
     "output_type": "execute_result"
    }
   ],
   "source": [
    "c += 2\n",
    "c"
   ]
  },
  {
   "cell_type": "code",
   "execution_count": 46,
   "id": "cc1db5e1-6034-4d9a-9c78-1af8c30de9e0",
   "metadata": {},
   "outputs": [
    {
     "data": {
      "text/plain": [
       "12"
      ]
     },
     "execution_count": 46,
     "metadata": {},
     "output_type": "execute_result"
    }
   ],
   "source": [
    "c +=2\n",
    "c"
   ]
  },
  {
   "cell_type": "code",
   "execution_count": 48,
   "id": "66a1df26-93a8-4789-9873-9195ccdbd5c6",
   "metadata": {},
   "outputs": [
    {
     "data": {
      "text/plain": [
       "8"
      ]
     },
     "execution_count": 48,
     "metadata": {},
     "output_type": "execute_result"
    }
   ],
   "source": [
    "c -=4\n",
    "c"
   ]
  },
  {
   "cell_type": "code",
   "execution_count": 50,
   "id": "1ea2077c-37e0-4b1f-95d5-abb7539ca88d",
   "metadata": {},
   "outputs": [
    {
     "data": {
      "text/plain": [
       "16"
      ]
     },
     "execution_count": 50,
     "metadata": {},
     "output_type": "execute_result"
    }
   ],
   "source": [
    "c *= 2\n",
    "c"
   ]
  },
  {
   "cell_type": "code",
   "execution_count": 52,
   "id": "c85afb3d-a311-46d6-855e-dcf712ca1cba",
   "metadata": {},
   "outputs": [
    {
     "data": {
      "text/plain": [
       "4.0"
      ]
     },
     "execution_count": 52,
     "metadata": {},
     "output_type": "execute_result"
    }
   ],
   "source": [
    "c /= 4\n",
    "c"
   ]
  },
  {
   "cell_type": "code",
   "execution_count": 54,
   "id": "8871eea3-da3b-4ca8-918b-3727da6af275",
   "metadata": {},
   "outputs": [
    {
     "data": {
      "text/plain": [
       "16.0"
      ]
     },
     "execution_count": 54,
     "metadata": {},
     "output_type": "execute_result"
    }
   ],
   "source": [
    "c **= 2\n",
    "c"
   ]
  },
  {
   "cell_type": "code",
   "execution_count": 56,
   "id": "b4b73c44-4cee-408d-8704-70b460d12614",
   "metadata": {},
   "outputs": [
    {
     "data": {
      "text/plain": [
       "8.0"
      ]
     },
     "execution_count": 56,
     "metadata": {},
     "output_type": "execute_result"
    }
   ],
   "source": [
    "c //= 2\n",
    "c"
   ]
  },
  {
   "cell_type": "code",
   "execution_count": 66,
   "id": "966debff-1d05-4a76-a24d-77370a01d7c7",
   "metadata": {},
   "outputs": [
    {
     "name": "stdout",
     "output_type": "stream",
     "text": [
      "d =  4 , e =  5 , d > e  is False\n"
     ]
    }
   ],
   "source": [
    "d= 4\n",
    "e= 5\n",
    "f= 5\n",
    "if(d > e):\n",
    "    print('d = ', d, ', e = ',e, ', d > e  is', True)\n",
    "else:\n",
    "    print('d = ', d, ', e = ',e, ', d > e  is', False)"
   ]
  },
  {
   "cell_type": "code",
   "execution_count": 68,
   "id": "a06cb182-e5ed-4706-a560-1084c34e37cd",
   "metadata": {},
   "outputs": [
    {
     "name": "stdout",
     "output_type": "stream",
     "text": [
      "d =  4 , e =  5 , d < e  is True\n"
     ]
    }
   ],
   "source": [
    "if(d < e):\n",
    "    print('d = ', d, ', e = ',e, ', d < e  is', True)\n",
    "else:\n",
    "    print('d = ', d, ', e = ',e, ', d < e  is', False)"
   ]
  },
  {
   "cell_type": "code",
   "execution_count": 70,
   "id": "d58dcc99-aa11-423d-a48d-febd0cad2752",
   "metadata": {},
   "outputs": [
    {
     "name": "stdout",
     "output_type": "stream",
     "text": [
      "d =  4 , e =  5 , d <= e  is True\n"
     ]
    }
   ],
   "source": [
    "if(d <= e):\n",
    "    print('d = ', d, ', e = ',e, ', d <= e  is', True)\n",
    "else:\n",
    "    print('d = ', d, ', e = ',e, ', d <= e  is', False)"
   ]
  },
  {
   "cell_type": "code",
   "execution_count": 72,
   "id": "bfd40b1f-86c6-4336-99c1-ce1f66793416",
   "metadata": {},
   "outputs": [
    {
     "name": "stdout",
     "output_type": "stream",
     "text": [
      "d =  4 , e =  5 , d >= e  is False\n"
     ]
    }
   ],
   "source": [
    "if(d >= e):\n",
    "    print('d = ', d, ', e = ',e, ', d >= e  is', True)\n",
    "else:\n",
    "    print('d = ', d, ', e = ',e, ', d >= e  is', False)"
   ]
  },
  {
   "cell_type": "code",
   "execution_count": 74,
   "id": "830eea3a-14d4-4987-ab29-88b5a428a19e",
   "metadata": {},
   "outputs": [
    {
     "name": "stdout",
     "output_type": "stream",
     "text": [
      "e =  5 , f =  5 , e == f  is True\n"
     ]
    }
   ],
   "source": [
    "if(e == f):\n",
    "    print('e = ',e,', f = ',f, ', e == f  is', True)\n",
    "else:\n",
    "    print('e = ',e,', f = ',f, ', e == f  is', False)"
   ]
  },
  {
   "cell_type": "code",
   "execution_count": 76,
   "id": "bcf2c782-7fdc-490d-b683-473b9c9df0b4",
   "metadata": {},
   "outputs": [
    {
     "name": "stdout",
     "output_type": "stream",
     "text": [
      "e =  5 , f =  5 , e != f  is False\n"
     ]
    }
   ],
   "source": [
    "if(e != f):\n",
    "    print('e = ',e,', f = ',f, ', e != f  is', True)\n",
    "else:\n",
    "    print('e = ',e,', f = ',f, ', e != f  is', False)"
   ]
  },
  {
   "cell_type": "code",
   "execution_count": null,
   "id": "e16fd4dc-a63c-4888-9aa5-ae5801812991",
   "metadata": {},
   "outputs": [],
   "source": []
  }
 ],
 "metadata": {
  "kernelspec": {
   "display_name": "Python 3 (ipykernel)",
   "language": "python",
   "name": "python3"
  },
  "language_info": {
   "codemirror_mode": {
    "name": "ipython",
    "version": 3
   },
   "file_extension": ".py",
   "mimetype": "text/x-python",
   "name": "python",
   "nbconvert_exporter": "python",
   "pygments_lexer": "ipython3",
   "version": "3.12.7"
  }
 },
 "nbformat": 4,
 "nbformat_minor": 5
}
