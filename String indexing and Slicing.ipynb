{
 "cells": [
  {
   "cell_type": "code",
   "execution_count": 1,
   "id": "aeb27d44-e8bb-4749-b5e5-a8e14d5409e7",
   "metadata": {},
   "outputs": [],
   "source": [
    "str1 = 'Hello Python Programers'\n",
    "str2 = \"This is Python Programing\"\n"
   ]
  },
  {
   "cell_type": "code",
   "execution_count": 3,
   "id": "43ca95a7-b6d6-43ea-bd8b-b1c5daf81387",
   "metadata": {},
   "outputs": [
    {
     "name": "stdout",
     "output_type": "stream",
     "text": [
      "Hello Python Programers\n",
      "This is Python Programing\n"
     ]
    }
   ],
   "source": [
    "print(str1)\n",
    "print(str2)"
   ]
  },
  {
   "cell_type": "code",
   "execution_count": 7,
   "id": "a012c1a3-51e5-476a-bac6-b34c2f895f6c",
   "metadata": {},
   "outputs": [
    {
     "data": {
      "text/plain": [
       "'H'"
      ]
     },
     "execution_count": 7,
     "metadata": {},
     "output_type": "execute_result"
    }
   ],
   "source": [
    "str1[0]"
   ]
  },
  {
   "cell_type": "code",
   "execution_count": 9,
   "id": "9d808cad-2e43-4cf4-952e-1e671f3afde3",
   "metadata": {},
   "outputs": [
    {
     "data": {
      "text/plain": [
       "'Hello Pyth'"
      ]
     },
     "execution_count": 9,
     "metadata": {},
     "output_type": "execute_result"
    }
   ],
   "source": [
    "str1[0:10]"
   ]
  },
  {
   "cell_type": "code",
   "execution_count": 11,
   "id": "4dc698e0-2d47-44b7-871d-237fc5d3aa67",
   "metadata": {},
   "outputs": [
    {
     "data": {
      "text/plain": [
       "'Hello Python Programer'"
      ]
     },
     "execution_count": 11,
     "metadata": {},
     "output_type": "execute_result"
    }
   ],
   "source": [
    "str1[:-1]"
   ]
  },
  {
   "cell_type": "code",
   "execution_count": 17,
   "id": "e8200479-0d7c-47a6-bd0c-861511746411",
   "metadata": {},
   "outputs": [
    {
     "name": "stdout",
     "output_type": "stream",
     "text": [
      "23\n",
      "25\n"
     ]
    }
   ],
   "source": [
    "print(len(str1))\n",
    "print(len(str2))"
   ]
  },
  {
   "cell_type": "code",
   "execution_count": 19,
   "id": "e567d94f-75a9-48c0-8232-ae31c0031c9f",
   "metadata": {},
   "outputs": [
    {
     "data": {
      "text/plain": [
       "' Python Programers'"
      ]
     },
     "execution_count": 19,
     "metadata": {},
     "output_type": "execute_result"
    }
   ],
   "source": [
    "str1[5:23]"
   ]
  },
  {
   "cell_type": "code",
   "execution_count": 27,
   "id": "17d6461a-6e16-4558-9264-7979a6c637f0",
   "metadata": {},
   "outputs": [
    {
     "data": {
      "text/plain": [
       "'Hello Python Programer'"
      ]
     },
     "execution_count": 27,
     "metadata": {},
     "output_type": "execute_result"
    }
   ],
   "source": [
    "str1[-23:-1]"
   ]
  },
  {
   "cell_type": "code",
   "execution_count": 29,
   "id": "23d3ffb5-3fea-4eca-ac17-8fbe9aa40f01",
   "metadata": {},
   "outputs": [
    {
     "data": {
      "text/plain": [
       "'This is Python Programin'"
      ]
     },
     "execution_count": 29,
     "metadata": {},
     "output_type": "execute_result"
    }
   ],
   "source": [
    "str2[-25:-1]"
   ]
  },
  {
   "cell_type": "code",
   "execution_count": 31,
   "id": "60589bd6-92c3-4459-b88e-8f4bff8af270",
   "metadata": {},
   "outputs": [
    {
     "data": {
      "text/plain": [
       "'sremargorP nohtyP olleH'"
      ]
     },
     "execution_count": 31,
     "metadata": {},
     "output_type": "execute_result"
    }
   ],
   "source": [
    "str1[::-1]"
   ]
  },
  {
   "cell_type": "code",
   "execution_count": 33,
   "id": "618fa5ed-c435-4b4e-91a8-f1572d88dbc6",
   "metadata": {},
   "outputs": [
    {
     "name": "stdout",
     "output_type": "stream",
     "text": [
      "H\n",
      "e\n",
      "l\n",
      "l\n",
      "o\n",
      " \n",
      "P\n",
      "y\n",
      "t\n",
      "h\n",
      "o\n",
      "n\n",
      " \n",
      "P\n",
      "r\n",
      "o\n",
      "g\n",
      "r\n",
      "a\n",
      "m\n",
      "e\n",
      "r\n",
      "s\n"
     ]
    }
   ],
   "source": [
    "for i in str1:\n",
    "    print(i)"
   ]
  },
  {
   "cell_type": "code",
   "execution_count": 35,
   "id": "6b84fcce-d36c-40d3-b9c0-b5b36cd9f9a0",
   "metadata": {},
   "outputs": [
    {
     "data": {
      "text/plain": [
       "'Hello Python Program'"
      ]
     },
     "execution_count": 35,
     "metadata": {},
     "output_type": "execute_result"
    }
   ],
   "source": [
    "str1[0:20]"
   ]
  },
  {
   "cell_type": "code",
   "execution_count": 37,
   "id": "a6a4f0cc-db71-4524-874b-6a324c2066a1",
   "metadata": {},
   "outputs": [
    {
     "data": {
      "text/plain": [
       "'Hello Python Programer'"
      ]
     },
     "execution_count": 37,
     "metadata": {},
     "output_type": "execute_result"
    }
   ],
   "source": [
    "str1[:-1]"
   ]
  },
  {
   "cell_type": "code",
   "execution_count": 45,
   "id": "96c2e2da-b813-478f-890b-c9ced7501fb4",
   "metadata": {},
   "outputs": [
    {
     "data": {
      "text/plain": [
       "3"
      ]
     },
     "execution_count": 45,
     "metadata": {},
     "output_type": "execute_result"
    }
   ],
   "source": [
    "str1.count('o')"
   ]
  },
  {
   "cell_type": "code",
   "execution_count": 47,
   "id": "f548065c-ce08-42c5-9f7f-09dd274b1817",
   "metadata": {},
   "outputs": [
    {
     "data": {
      "text/plain": [
       "1"
      ]
     },
     "execution_count": 47,
     "metadata": {},
     "output_type": "execute_result"
    }
   ],
   "source": [
    "str1.find('e')"
   ]
  },
  {
   "cell_type": "code",
   "execution_count": 49,
   "id": "f12ebd4a-1c6b-4717-9458-076eda6227b6",
   "metadata": {},
   "outputs": [
    {
     "data": {
      "text/plain": [
       "4"
      ]
     },
     "execution_count": 49,
     "metadata": {},
     "output_type": "execute_result"
    }
   ],
   "source": [
    "str1.find('o')"
   ]
  },
  {
   "cell_type": "code",
   "execution_count": 51,
   "id": "9adb1abf-e829-413f-9835-eda3801c3aa8",
   "metadata": {},
   "outputs": [
    {
     "data": {
      "text/plain": [
       "0"
      ]
     },
     "execution_count": 51,
     "metadata": {},
     "output_type": "execute_result"
    }
   ],
   "source": [
    "str1.find('Hello')"
   ]
  },
  {
   "cell_type": "code",
   "execution_count": 53,
   "id": "f9d425b6-0c60-4ca6-898b-c97467d1b0ba",
   "metadata": {},
   "outputs": [
    {
     "data": {
      "text/plain": [
       "['Hello Python Programers']"
      ]
     },
     "execution_count": 53,
     "metadata": {},
     "output_type": "execute_result"
    }
   ],
   "source": [
    "str1.splitlines()"
   ]
  },
  {
   "cell_type": "code",
   "execution_count": 67,
   "id": "12c13dbb-5e57-4675-99b8-35c7b348cf7f",
   "metadata": {},
   "outputs": [],
   "source": [
    "str3 = str1.splitlines(' ')"
   ]
  },
  {
   "cell_type": "code",
   "execution_count": 57,
   "id": "e7af2550-7898-4f04-a7ff-18ba15d4619c",
   "metadata": {},
   "outputs": [
    {
     "data": {
      "text/plain": [
       "'        Hello Python Programers         '"
      ]
     },
     "execution_count": 57,
     "metadata": {},
     "output_type": "execute_result"
    }
   ],
   "source": [
    "str1.center(40)"
   ]
  },
  {
   "cell_type": "code",
   "execution_count": 69,
   "id": "9e510bfc-c913-4827-ad76-eb5482ae8011",
   "metadata": {},
   "outputs": [
    {
     "data": {
      "text/plain": [
       "['Hello Python Programers']"
      ]
     },
     "execution_count": 69,
     "metadata": {},
     "output_type": "execute_result"
    }
   ],
   "source": [
    "str3"
   ]
  },
  {
   "cell_type": "code",
   "execution_count": 81,
   "id": "490dd2de-a8f8-4b66-a9c6-a997e7a07000",
   "metadata": {},
   "outputs": [
    {
     "name": "stdout",
     "output_type": "stream",
     "text": [
      "Hello \t Python \"Programers\" \n",
      "Welcome \t to Python \"Programing\"\n"
     ]
    }
   ],
   "source": [
    "print(\"Hello \\t Python \\\"Programers\\\" \\n Welcome \\t to Python \\\"Programing\\\"\") "
   ]
  },
  {
   "cell_type": "code",
   "execution_count": 83,
   "id": "be225185-5fff-4e80-9e46-ad8b30e74139",
   "metadata": {},
   "outputs": [
    {
     "data": {
      "text/plain": [
       "True"
      ]
     },
     "execution_count": 83,
     "metadata": {},
     "output_type": "execute_result"
    }
   ],
   "source": [
    "'Hello' in 'Hello World'"
   ]
  },
  {
   "cell_type": "code",
   "execution_count": 85,
   "id": "be1e7629-6b2a-4625-92af-d14e3281ae3b",
   "metadata": {},
   "outputs": [
    {
     "data": {
      "text/plain": [
       "False"
      ]
     },
     "execution_count": 85,
     "metadata": {},
     "output_type": "execute_result"
    }
   ],
   "source": [
    "'Hello' not in 'Hello World'"
   ]
  },
  {
   "cell_type": "code",
   "execution_count": 87,
   "id": "3a04fd32-4f81-4b65-8655-89b9a2cfc017",
   "metadata": {},
   "outputs": [
    {
     "data": {
      "text/plain": [
       "False"
      ]
     },
     "execution_count": 87,
     "metadata": {},
     "output_type": "execute_result"
    }
   ],
   "source": [
    "str1.isalpha()"
   ]
  },
  {
   "cell_type": "code",
   "execution_count": 89,
   "id": "1a8835be-8ffd-4f22-9ef4-0e2890d50c2c",
   "metadata": {},
   "outputs": [
    {
     "data": {
      "text/plain": [
       "True"
      ]
     },
     "execution_count": 89,
     "metadata": {},
     "output_type": "execute_result"
    }
   ],
   "source": [
    "str1.istitle()"
   ]
  },
  {
   "cell_type": "code",
   "execution_count": 93,
   "id": "8aa0ab8a-a9c6-46c1-8b1a-afe175005ba5",
   "metadata": {},
   "outputs": [
    {
     "data": {
      "text/plain": [
       "True"
      ]
     },
     "execution_count": 93,
     "metadata": {},
     "output_type": "execute_result"
    }
   ],
   "source": [
    "s1 = 'hello'\n",
    "s1.isalpha()"
   ]
  },
  {
   "cell_type": "code",
   "execution_count": 95,
   "id": "38afcfd0-9ea7-403c-8fd7-8183bfb540d9",
   "metadata": {},
   "outputs": [
    {
     "data": {
      "text/plain": [
       "True"
      ]
     },
     "execution_count": 95,
     "metadata": {},
     "output_type": "execute_result"
    }
   ],
   "source": [
    "s1.islower()"
   ]
  },
  {
   "cell_type": "code",
   "execution_count": 97,
   "id": "b9e229dd-ba5d-41f6-ac62-647397098024",
   "metadata": {},
   "outputs": [
    {
     "data": {
      "text/plain": [
       "False"
      ]
     },
     "execution_count": 97,
     "metadata": {},
     "output_type": "execute_result"
    }
   ],
   "source": [
    "s1.isupper()"
   ]
  },
  {
   "cell_type": "code",
   "execution_count": 99,
   "id": "42a1046d-28c4-41ff-b199-42beea1d084a",
   "metadata": {},
   "outputs": [
    {
     "data": {
      "text/plain": [
       "True"
      ]
     },
     "execution_count": 99,
     "metadata": {},
     "output_type": "execute_result"
    }
   ],
   "source": [
    "s2 = \"HELLO\"\n",
    "s2.isupper()"
   ]
  },
  {
   "cell_type": "code",
   "execution_count": 101,
   "id": "81e95101-bf06-4125-9697-a795c6e68df5",
   "metadata": {},
   "outputs": [
    {
     "data": {
      "text/plain": [
       "False"
      ]
     },
     "execution_count": 101,
     "metadata": {},
     "output_type": "execute_result"
    }
   ],
   "source": [
    "s2.isdigit()"
   ]
  },
  {
   "cell_type": "code",
   "execution_count": 109,
   "id": "a0159321-e213-47bc-a69a-fa74a45229c5",
   "metadata": {},
   "outputs": [
    {
     "data": {
      "text/plain": [
       "'00000HELLO'"
      ]
     },
     "execution_count": 109,
     "metadata": {},
     "output_type": "execute_result"
    }
   ],
   "source": [
    "s2.zfill( 10)"
   ]
  },
  {
   "cell_type": "code",
   "execution_count": 115,
   "id": "ae5135eb-0e75-4331-9b17-4f4352e7ecc1",
   "metadata": {},
   "outputs": [
    {
     "data": {
      "text/plain": [
       "True"
      ]
     },
     "execution_count": 115,
     "metadata": {},
     "output_type": "execute_result"
    }
   ],
   "source": [
    "s2.endswith('O')"
   ]
  },
  {
   "cell_type": "code",
   "execution_count": 117,
   "id": "da1fe663-e349-4022-a32e-b861ef35f364",
   "metadata": {},
   "outputs": [
    {
     "data": {
      "text/plain": [
       "True"
      ]
     },
     "execution_count": 117,
     "metadata": {},
     "output_type": "execute_result"
    }
   ],
   "source": [
    "s2.endswith('HELLO')"
   ]
  },
  {
   "cell_type": "code",
   "execution_count": 131,
   "id": "3a703811-9927-48bc-9463-a48f6fc82f58",
   "metadata": {},
   "outputs": [],
   "source": [
    "st2 = str1.split(' ')"
   ]
  },
  {
   "cell_type": "code",
   "execution_count": 133,
   "id": "585b4da8-89b0-4757-8b97-79a3b34f3f88",
   "metadata": {},
   "outputs": [
    {
     "name": "stdout",
     "output_type": "stream",
     "text": [
      "Hello\n",
      "Python\n",
      "Programers\n"
     ]
    }
   ],
   "source": [
    "for i in st2:\n",
    "    print(i)"
   ]
  },
  {
   "cell_type": "code",
   "execution_count": 135,
   "id": "446f001d-2f93-476b-ba80-69d2d08326ab",
   "metadata": {},
   "outputs": [
    {
     "data": {
      "text/plain": [
       "True"
      ]
     },
     "execution_count": 135,
     "metadata": {},
     "output_type": "execute_result"
    }
   ],
   "source": [
    "str1.isprintable()"
   ]
  },
  {
   "cell_type": "code",
   "execution_count": 141,
   "id": "cd994d28-ea62-4978-ada2-5bc0c5b35b27",
   "metadata": {},
   "outputs": [
    {
     "data": {
      "text/plain": [
       "'Hello Python Programers       '"
      ]
     },
     "execution_count": 141,
     "metadata": {},
     "output_type": "execute_result"
    }
   ],
   "source": [
    "str1.ljust(30)"
   ]
  },
  {
   "cell_type": "code",
   "execution_count": 145,
   "id": "8d73cf0f-6539-4281-9792-f82c45e9d587",
   "metadata": {},
   "outputs": [
    {
     "data": {
      "text/plain": [
       "'Hello Python Programers!!!!!!!'"
      ]
     },
     "execution_count": 145,
     "metadata": {},
     "output_type": "execute_result"
    }
   ],
   "source": [
    "str1.ljust(30, '!')"
   ]
  },
  {
   "cell_type": "code",
   "execution_count": 147,
   "id": "b3c4c390-a798-4b2c-ae4d-e35cfe467cd5",
   "metadata": {},
   "outputs": [
    {
     "data": {
      "text/plain": [
       "'       Hello Python Programers'"
      ]
     },
     "execution_count": 147,
     "metadata": {},
     "output_type": "execute_result"
    }
   ],
   "source": [
    "str1.rjust(30)"
   ]
  },
  {
   "cell_type": "code",
   "execution_count": 149,
   "id": "911e49ca-0047-4352-971f-3659ebaca107",
   "metadata": {},
   "outputs": [
    {
     "data": {
      "text/plain": [
       "'!!!!!!!Hello Python Programers'"
      ]
     },
     "execution_count": 149,
     "metadata": {},
     "output_type": "execute_result"
    }
   ],
   "source": [
    "str1.rjust(30, '!')"
   ]
  },
  {
   "cell_type": "code",
   "execution_count": 155,
   "id": "60bbf82f-af9c-415a-80cd-c285b793e15b",
   "metadata": {},
   "outputs": [
    {
     "data": {
      "text/plain": [
       "b'Hello Python Programers'"
      ]
     },
     "execution_count": 155,
     "metadata": {},
     "output_type": "execute_result"
    }
   ],
   "source": [
    "str1.encode()"
   ]
  },
  {
   "cell_type": "markdown",
   "id": "10e80de2-0c10-414d-bd73-54966f3eb5d1",
   "metadata": {},
   "source": []
  },
  {
   "cell_type": "code",
   "execution_count": 159,
   "id": "0167ac67-3664-4c2a-897c-89ab2bc01600",
   "metadata": {},
   "outputs": [
    {
     "data": {
      "text/plain": [
       "('Hello Python Pr', 'o', 'gramers')"
      ]
     },
     "execution_count": 159,
     "metadata": {},
     "output_type": "execute_result"
    }
   ],
   "source": [
    "str1.rpartition('o')"
   ]
  },
  {
   "cell_type": "code",
   "execution_count": 161,
   "id": "9a30f0df-12e8-4efc-be9f-2a99eb3a3724",
   "metadata": {},
   "outputs": [
    {
     "data": {
      "text/plain": [
       "('Hell', 'o', ' Python Programers')"
      ]
     },
     "execution_count": 161,
     "metadata": {},
     "output_type": "execute_result"
    }
   ],
   "source": [
    "str1.partition('o')"
   ]
  },
  {
   "cell_type": "code",
   "execution_count": 163,
   "id": "6968cf19-7fd4-45c7-a9ca-438990a22c47",
   "metadata": {},
   "outputs": [
    {
     "data": {
      "text/plain": [
       "['Hello', 'Python', 'Programers']"
      ]
     },
     "execution_count": 163,
     "metadata": {},
     "output_type": "execute_result"
    }
   ],
   "source": [
    "str1.rsplit()"
   ]
  },
  {
   "cell_type": "code",
   "execution_count": 165,
   "id": "fc88e3ee-b45c-438a-8040-8bbf1492d652",
   "metadata": {},
   "outputs": [
    {
     "data": {
      "text/plain": [
       "'HELLO PYTHON PROGRAMERS'"
      ]
     },
     "execution_count": 165,
     "metadata": {},
     "output_type": "execute_result"
    }
   ],
   "source": [
    "str1.upper()"
   ]
  },
  {
   "cell_type": "code",
   "execution_count": 167,
   "id": "b43350b2-2d04-43c5-bc55-fb9a880fb8a8",
   "metadata": {},
   "outputs": [
    {
     "data": {
      "text/plain": [
       "'hello python programers'"
      ]
     },
     "execution_count": 167,
     "metadata": {},
     "output_type": "execute_result"
    }
   ],
   "source": [
    "str1.lower()"
   ]
  },
  {
   "cell_type": "code",
   "execution_count": 169,
   "id": "cbec3932-e106-4642-9c12-f2fe7e2bfa85",
   "metadata": {},
   "outputs": [
    {
     "data": {
      "text/plain": [
       "'THello Python ProgramershHello Python ProgramersiHello Python ProgramerssHello Python Programers Hello Python ProgramersiHello Python ProgramerssHello Python Programers Hello Python ProgramersPHello Python ProgramersyHello Python ProgramerstHello Python ProgramershHello Python ProgramersoHello Python ProgramersnHello Python Programers Hello Python ProgramersPHello Python ProgramersrHello Python ProgramersoHello Python ProgramersgHello Python ProgramersrHello Python ProgramersaHello Python ProgramersmHello Python ProgramersiHello Python ProgramersnHello Python Programersg'"
      ]
     },
     "execution_count": 169,
     "metadata": {},
     "output_type": "execute_result"
    }
   ],
   "source": [
    "str1.join(str2)"
   ]
  },
  {
   "cell_type": "code",
   "execution_count": 171,
   "id": "e030325a-fb01-4114-9738-cf4f444643df",
   "metadata": {},
   "outputs": [
    {
     "data": {
      "text/plain": [
       "'TThis is Python PrograminghThis is Python ProgramingiThis is Python ProgramingsThis is Python Programing This is Python ProgramingiThis is Python ProgramingsThis is Python Programing This is Python ProgramingPThis is Python ProgramingyThis is Python ProgramingtThis is Python PrograminghThis is Python ProgramingoThis is Python ProgramingnThis is Python Programing This is Python ProgramingPThis is Python ProgramingrThis is Python ProgramingoThis is Python PrograminggThis is Python ProgramingrThis is Python ProgramingaThis is Python ProgramingmThis is Python ProgramingiThis is Python ProgramingnThis is Python Programingg'"
      ]
     },
     "execution_count": 171,
     "metadata": {},
     "output_type": "execute_result"
    }
   ],
   "source": [
    "str2.join(str2)"
   ]
  },
  {
   "cell_type": "code",
   "execution_count": 173,
   "id": "357fd3e1-f7e2-4aae-8841-35ed6d3ac15c",
   "metadata": {},
   "outputs": [
    {
     "data": {
      "text/plain": [
       "'Hello Python Programers'"
      ]
     },
     "execution_count": 173,
     "metadata": {},
     "output_type": "execute_result"
    }
   ],
   "source": [
    "str1.strip()"
   ]
  },
  {
   "cell_type": "code",
   "execution_count": null,
   "id": "ce21b247-2b86-4027-a0d3-477b7e57b914",
   "metadata": {},
   "outputs": [],
   "source": []
  }
 ],
 "metadata": {
  "kernelspec": {
   "display_name": "Python 3 (ipykernel)",
   "language": "python",
   "name": "python3"
  },
  "language_info": {
   "codemirror_mode": {
    "name": "ipython",
    "version": 3
   },
   "file_extension": ".py",
   "mimetype": "text/x-python",
   "name": "python",
   "nbconvert_exporter": "python",
   "pygments_lexer": "ipython3",
   "version": "3.12.7"
  }
 },
 "nbformat": 4,
 "nbformat_minor": 5
}
