{
 "cells": [
  {
   "cell_type": "markdown",
   "id": "be612ea2-e140-47be-b33c-3f275a226b26",
   "metadata": {},
   "source": [
    "# Python Identifier = Object = Variable"
   ]
  },
  {
   "cell_type": "raw",
   "id": "dff28f78-c05e-45c4-874f-5077d66a49b9",
   "metadata": {},
   "source": [
    "#  Rules for Identifier\n",
    " 1- identifier is case sensitive \n",
    " 2- identifier is never start with digit \t\t\n",
    " 3- no special charate is allowed \n",
    " 4- only _ is allowed \n",
    " 5- keyword will never be an identifier\n",
    "    keyword = reserved words (35)"
   ]
  },
  {
   "cell_type": "code",
   "execution_count": 6,
   "id": "f7577d97-32a3-4579-b613-421d6b315d75",
   "metadata": {},
   "outputs": [],
   "source": [
    "v1 = 5\n",
    "_v = 11\n",
    "v_v = 20\n",
    "Vv = 22\n",
    "vUv = 10"
   ]
  },
  {
   "cell_type": "code",
   "execution_count": 20,
   "id": "98ad37a6-4ceb-4151-b12b-664ee36085d4",
   "metadata": {},
   "outputs": [
    {
     "name": "stdout",
     "output_type": "stream",
     "text": [
      "5\n",
      "11\n",
      "20\n",
      "22\n",
      "10\n"
     ]
    }
   ],
   "source": [
    "print(v1)\n",
    "print(_v)\n",
    "print(v_v)\n",
    "print(Vv)\n",
    "print(vUv)"
   ]
  },
  {
   "cell_type": "code",
   "execution_count": 22,
   "id": "5591d091-8ea9-42eb-8f94-dabe9f9f455e",
   "metadata": {},
   "outputs": [
    {
     "ename": "NameError",
     "evalue": "name 'V1' is not defined",
     "output_type": "error",
     "traceback": [
      "\u001b[1;31m---------------------------------------------------------------------------\u001b[0m",
      "\u001b[1;31mNameError\u001b[0m                                 Traceback (most recent call last)",
      "Cell \u001b[1;32mIn[22], line 1\u001b[0m\n\u001b[1;32m----> 1\u001b[0m \u001b[38;5;28mprint\u001b[39m(V1)\n",
      "\u001b[1;31mNameError\u001b[0m: name 'V1' is not defined"
     ]
    }
   ],
   "source": [
    "print(V1)"
   ]
  },
  {
   "cell_type": "code",
   "execution_count": 8,
   "id": "f44c7c92-a9fd-42fa-a740-330cd6f33e78",
   "metadata": {},
   "outputs": [
    {
     "ename": "SyntaxError",
     "evalue": "invalid syntax (3748190381.py, line 1)",
     "output_type": "error",
     "traceback": [
      "\u001b[1;36m  Cell \u001b[1;32mIn[8], line 1\u001b[1;36m\u001b[0m\n\u001b[1;33m    V@ = 12\u001b[0m\n\u001b[1;37m       ^\u001b[0m\n\u001b[1;31mSyntaxError\u001b[0m\u001b[1;31m:\u001b[0m invalid syntax\n"
     ]
    }
   ],
   "source": [
    "V@ = 12"
   ]
  },
  {
   "cell_type": "code",
   "execution_count": 12,
   "id": "a11ba143-3ea0-403d-870c-cdbcf3d39e44",
   "metadata": {},
   "outputs": [
    {
     "ename": "SyntaxError",
     "evalue": "invalid syntax (3313958887.py, line 1)",
     "output_type": "error",
     "traceback": [
      "\u001b[1;36m  Cell \u001b[1;32mIn[12], line 1\u001b[1;36m\u001b[0m\n\u001b[1;33m    v$ = 2\u001b[0m\n\u001b[1;37m     ^\u001b[0m\n\u001b[1;31mSyntaxError\u001b[0m\u001b[1;31m:\u001b[0m invalid syntax\n"
     ]
    }
   ],
   "source": [
    "v$ = 2"
   ]
  },
  {
   "cell_type": "code",
   "execution_count": 14,
   "id": "aba2f46e-132e-4a4f-adb7-1eecdfb0f877",
   "metadata": {},
   "outputs": [
    {
     "ename": "SyntaxError",
     "evalue": "invalid syntax (2606083059.py, line 1)",
     "output_type": "error",
     "traceback": [
      "\u001b[1;36m  Cell \u001b[1;32mIn[14], line 1\u001b[1;36m\u001b[0m\n\u001b[1;33m    V& = 7\u001b[0m\n\u001b[1;37m       ^\u001b[0m\n\u001b[1;31mSyntaxError\u001b[0m\u001b[1;31m:\u001b[0m invalid syntax\n"
     ]
    }
   ],
   "source": [
    "V& = 7"
   ]
  },
  {
   "cell_type": "code",
   "execution_count": 16,
   "id": "ba1bf335-7390-4b63-8fa7-773ecb8e6e66",
   "metadata": {},
   "outputs": [
    {
     "ename": "SyntaxError",
     "evalue": "invalid syntax (2044534946.py, line 1)",
     "output_type": "error",
     "traceback": [
      "\u001b[1;36m  Cell \u001b[1;32mIn[16], line 1\u001b[1;36m\u001b[0m\n\u001b[1;33m    if = 'ram'\u001b[0m\n\u001b[1;37m       ^\u001b[0m\n\u001b[1;31mSyntaxError\u001b[0m\u001b[1;31m:\u001b[0m invalid syntax\n"
     ]
    }
   ],
   "source": [
    "if = 'ram'"
   ]
  },
  {
   "cell_type": "code",
   "execution_count": 24,
   "id": "8efe66b4-7ea5-43e8-af05-79b348db7227",
   "metadata": {},
   "outputs": [
    {
     "ename": "SyntaxError",
     "evalue": "invalid decimal literal (3234929645.py, line 1)",
     "output_type": "error",
     "traceback": [
      "\u001b[1;36m  Cell \u001b[1;32mIn[24], line 1\u001b[1;36m\u001b[0m\n\u001b[1;33m    2v = 11\u001b[0m\n\u001b[1;37m    ^\u001b[0m\n\u001b[1;31mSyntaxError\u001b[0m\u001b[1;31m:\u001b[0m invalid decimal literal\n"
     ]
    }
   ],
   "source": [
    "2v = 11"
   ]
  },
  {
   "cell_type": "code",
   "execution_count": null,
   "id": "4ea387dc-dcdd-4308-8a3b-7184832a4559",
   "metadata": {},
   "outputs": [],
   "source": []
  }
 ],
 "metadata": {
  "kernelspec": {
   "display_name": "Python 3 (ipykernel)",
   "language": "python",
   "name": "python3"
  },
  "language_info": {
   "codemirror_mode": {
    "name": "ipython",
    "version": 3
   },
   "file_extension": ".py",
   "mimetype": "text/x-python",
   "name": "python",
   "nbconvert_exporter": "python",
   "pygments_lexer": "ipython3",
   "version": "3.12.7"
  }
 },
 "nbformat": 4,
 "nbformat_minor": 5
}
